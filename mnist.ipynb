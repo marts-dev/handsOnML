{
 "metadata": {
  "language_info": {
   "codemirror_mode": {
    "name": "ipython",
    "version": 3
   },
   "file_extension": ".py",
   "mimetype": "text/x-python",
   "name": "python",
   "nbconvert_exporter": "python",
   "pygments_lexer": "ipython3",
   "version": "3.9.2"
  },
  "orig_nbformat": 2,
  "kernelspec": {
   "name": "python3",
   "display_name": "Python 3.9.2 64-bit ('mlearn': conda)",
   "metadata": {
    "interpreter": {
     "hash": "da33ca4b9d19b21782c7371355fbacdd87a380d0f9aced53f133b2c8e91ece77"
    }
   }
  }
 },
 "nbformat": 4,
 "nbformat_minor": 2,
 "cells": [
  {
   "source": [
    "# Classification Practice using MNIST Dataset"
   ],
   "cell_type": "markdown",
   "metadata": {}
  },
  {
   "cell_type": "code",
   "execution_count": 1,
   "metadata": {},
   "outputs": [
    {
     "output_type": "execute_result",
     "data": {
      "text/plain": [
       "dict_keys(['data', 'target', 'frame', 'categories', 'feature_names', 'target_names', 'DESCR', 'details', 'url'])"
      ]
     },
     "metadata": {},
     "execution_count": 1
    }
   ],
   "source": [
    "from sklearn.datasets import fetch_openml\n",
    "\n",
    "mnist = fetch_openml('mnist_784', version=1)\n",
    "mnist.keys()"
   ]
  },
  {
   "source": [
    "- `DESCR` : key describing the dataset\n",
    "- `data` : key containing an array with one row per instance and one column per feature\n",
    "- `target` : key containing an array with labels"
   ],
   "cell_type": "markdown",
   "metadata": {}
  },
  {
   "cell_type": "code",
   "execution_count": 17,
   "metadata": {},
   "outputs": [
    {
     "output_type": "display_data",
     "data": {
      "text/plain": "(70000, 784)"
     },
     "metadata": {}
    },
    {
     "output_type": "display_data",
     "data": {
      "text/plain": "(70000,)"
     },
     "metadata": {}
    }
   ],
   "source": [
    "import matplotlib as mpl\n",
    "import matplotlib.pyplot as plt\n",
    "\n",
    "X, y = mnist[\"data\"].copy(), mnist[\"target\"].copy()\n",
    "display(X.shape)\n",
    "display(y.shape)"
   ]
  },
  {
   "cell_type": "code",
   "execution_count": 29,
   "metadata": {},
   "outputs": [
    {
     "output_type": "display_data",
     "data": {
      "text/plain": "<Figure size 432x288 with 1 Axes>",
      "image/svg+xml": "<?xml version=\"1.0\" encoding=\"utf-8\" standalone=\"no\"?>\n<!DOCTYPE svg PUBLIC \"-//W3C//DTD SVG 1.1//EN\"\n  \"http://www.w3.org/Graphics/SVG/1.1/DTD/svg11.dtd\">\n<!-- Created with matplotlib (https://matplotlib.org/) -->\n<svg height=\"231.84pt\" version=\"1.1\" viewBox=\"0 0 231.84 231.84\" width=\"231.84pt\" xmlns=\"http://www.w3.org/2000/svg\" xmlns:xlink=\"http://www.w3.org/1999/xlink\">\n <defs>\n  <style type=\"text/css\">\n*{stroke-linecap:butt;stroke-linejoin:round;}\n  </style>\n </defs>\n <g id=\"figure_1\">\n  <g id=\"patch_1\">\n   <path d=\"M 0 231.84 \nL 231.84 231.84 \nL 231.84 0 \nL 0 0 \nz\n\" style=\"fill:none;\"/>\n  </g>\n  <g id=\"axes_1\">\n   <g clip-path=\"url(#p51a57cb9e1)\">\n    <image height=\"218\" id=\"image8d51f747ad\" transform=\"scale(1 -1)translate(0 -218)\" width=\"218\" x=\"7.2\" xlink:href=\"data:image/png;base64,\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\" y=\"-6.64\"/>\n   </g>\n  </g>\n </g>\n <defs>\n  <clipPath id=\"p51a57cb9e1\">\n   <rect height=\"217.44\" width=\"217.44\" x=\"7.2\" y=\"7.2\"/>\n  </clipPath>\n </defs>\n</svg>\n",
      "image/png": "[encoded data removed]"
     },
     "metadata": {
      "needs_background": "light"
     }
    }
   ],
   "source": [
    "some_digit = X.loc[0]\n",
    "some_digit_image = some_digit.values.reshape(28, 28)\n",
    "\n",
    "plt.imshow(some_digit_image, cmap=\"binary\")\n",
    "plt.axis(\"off\")\n",
    "plt.show()"
   ]
  },
  {
   "cell_type": "code",
   "execution_count": 30,
   "metadata": {},
   "outputs": [
    {
     "output_type": "execute_result",
     "data": {
      "text/plain": [
       "'5'"
      ]
     },
     "metadata": {},
     "execution_count": 30
    }
   ],
   "source": [
    "y[0]"
   ]
  },
  {
   "cell_type": "code",
   "execution_count": 31,
   "metadata": {},
   "outputs": [],
   "source": [
    "import numpy as np\n",
    "y = y.astype(np.uint8)"
   ]
  },
  {
   "cell_type": "code",
   "execution_count": null,
   "metadata": {},
   "outputs": [],
   "source": []
  }
 ]
}