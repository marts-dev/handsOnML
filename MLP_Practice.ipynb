{
 "cells": [
  {
   "cell_type": "markdown",
   "metadata": {},
   "source": [
    "# Implementing MLP with Keras"
   ]
  },
  {
   "cell_type": "code",
   "execution_count": 1,
   "metadata": {},
   "outputs": [
    {
     "name": "stdout",
     "output_type": "stream",
     "text": [
      "Tensorflow: 2.10.0\n",
      "Keras: 2.10.0\n"
     ]
    }
   ],
   "source": [
    "import tensorflow as tf\n",
    "from tensorflow import keras\n",
    "print(f'Tensorflow: {tf.__version__}')\n",
    "print(f'Keras: {keras.__version__}')"
   ]
  },
  {
   "cell_type": "markdown",
   "metadata": {},
   "source": [
    "## Retrieve Fashion MNIST dataset"
   ]
  },
  {
   "cell_type": "code",
   "execution_count": 2,
   "metadata": {},
   "outputs": [],
   "source": [
    "fashion_mnist = keras.datasets.fashion_mnist\n",
    "(X_train_full, y_train_full), (X_test, y_test) = fashion_mnist.load_data()"
   ]
  },
  {
   "cell_type": "code",
   "execution_count": 3,
   "metadata": {},
   "outputs": [
    {
     "data": {
      "text/plain": [
       "(60000, 28, 28)"
      ]
     },
     "execution_count": 3,
     "metadata": {},
     "output_type": "execute_result"
    }
   ],
   "source": [
    "X_train_full.shape"
   ]
  },
  {
   "cell_type": "code",
   "execution_count": 4,
   "metadata": {},
   "outputs": [
    {
     "data": {
      "text/plain": [
       "(60000,)"
      ]
     },
     "execution_count": 4,
     "metadata": {},
     "output_type": "execute_result"
    }
   ],
   "source": [
    "y_train_full.shape"
   ]
  },
  {
   "cell_type": "code",
   "execution_count": 5,
   "metadata": {},
   "outputs": [],
   "source": [
    "X_valid, X_train = X_train_full[:5000]/255.0, X_train_full[5000:]/255.0\n",
    "y_valid, y_train = y_train_full[:5000], y_train_full[5000:]\n",
    "X_test = X_test/255.0"
   ]
  },
  {
   "cell_type": "code",
   "execution_count": 6,
   "metadata": {},
   "outputs": [],
   "source": [
    "class_names = [\"T-shirt/top\", \"Trouser\", \"Pullover\", \"Dress\", \"Coat\", \"Sandal\", \"Shirt\", \"Sneaker\", \"Bag\", \"Ankle boot\"]"
   ]
  },
  {
   "cell_type": "code",
   "execution_count": 7,
   "metadata": {},
   "outputs": [
    {
     "data": {
      "text/plain": [
       "'Coat'"
      ]
     },
     "execution_count": 7,
     "metadata": {},
     "output_type": "execute_result"
    }
   ],
   "source": [
    "class_names[y_train[0]]"
   ]
  },
  {
   "cell_type": "code",
   "execution_count": 2,
   "metadata": {},
   "outputs": [],
   "source": [
    "import matplotlib.pyplot as plt"
   ]
  },
  {
   "cell_type": "code",
   "execution_count": 9,
   "metadata": {},
   "outputs": [
    {
     "data": {
      "image/png": "[encoded data removed]",
      "text/plain": [
       "<Figure size 432x288 with 1 Axes>"
      ]
     },
     "metadata": {
      "needs_background": "light"
     },
     "output_type": "display_data"
    }
   ],
   "source": [
    "plt.imshow(X_train[0], cmap=\"binary\")\n",
    "plt.axis(\"off\")\n",
    "plt.show()"
   ]
  },
  {
   "cell_type": "code",
   "execution_count": 10,
   "metadata": {},
   "outputs": [],
   "source": [
    "model = keras.models.Sequential([\n",
    "    keras.layers.Flatten(input_shape=[28, 28]),\n",
    "    keras.layers.Dense(300, activation=\"relu\"),\n",
    "    keras.layers.Dense(100, activation=\"relu\"),\n",
    "    keras.layers.Dense(10, activation=\"softmax\")\n",
    "])"
   ]
  },
  {
   "cell_type": "code",
   "execution_count": 11,
   "metadata": {},
   "outputs": [
    {
     "name": "stdout",
     "output_type": "stream",
     "text": [
      "Model: \"sequential\"\n",
      "_________________________________________________________________\n",
      " Layer (type)                Output Shape              Param #   \n",
      "=================================================================\n",
      " flatten (Flatten)           (None, 784)               0         \n",
      "                                                                 \n",
      " dense (Dense)               (None, 300)               235500    \n",
      "                                                                 \n",
      " dense_1 (Dense)             (None, 100)               30100     \n",
      "                                                                 \n",
      " dense_2 (Dense)             (None, 10)                1010      \n",
      "                                                                 \n",
      "=================================================================\n",
      "Total params: 266,610\n",
      "Trainable params: 266,610\n",
      "Non-trainable params: 0\n",
      "_________________________________________________________________\n"
     ]
    }
   ],
   "source": [
    "model.summary()"
   ]
  },
  {
   "cell_type": "code",
   "execution_count": 12,
   "metadata": {},
   "outputs": [
    {
     "data": {
      "text/plain": [
       "[<keras.layers.reshaping.flatten.Flatten at 0x285ddaf4fa0>,\n",
       " <keras.layers.core.dense.Dense at 0x285dda94c40>,\n",
       " <keras.layers.core.dense.Dense at 0x285dda94c70>,\n",
       " <keras.layers.core.dense.Dense at 0x285dda94880>]"
      ]
     },
     "execution_count": 12,
     "metadata": {},
     "output_type": "execute_result"
    }
   ],
   "source": [
    "model.layers"
   ]
  },
  {
   "cell_type": "code",
   "execution_count": 13,
   "metadata": {},
   "outputs": [],
   "source": [
    "hidden_1 = model.layers[1]"
   ]
  },
  {
   "cell_type": "code",
   "execution_count": 14,
   "metadata": {},
   "outputs": [
    {
     "data": {
      "text/plain": [
       "'dense'"
      ]
     },
     "execution_count": 14,
     "metadata": {},
     "output_type": "execute_result"
    }
   ],
   "source": [
    "hidden_1.name"
   ]
  },
  {
   "cell_type": "code",
   "execution_count": 15,
   "metadata": {},
   "outputs": [
    {
     "name": "stdout",
     "output_type": "stream",
     "text": [
      "You must install pydot (`pip install pydot`) and install graphviz (see instructions at https://graphviz.gitlab.io/download/) for plot_model/model_to_dot to work.\n"
     ]
    }
   ],
   "source": [
    "keras.utils.plot_model(model, \"my_fashion_mnist_model.png\", show_shapes=True)"
   ]
  },
  {
   "cell_type": "code",
   "execution_count": 16,
   "metadata": {},
   "outputs": [
    {
     "data": {
      "text/plain": [
       "True"
      ]
     },
     "execution_count": 16,
     "metadata": {},
     "output_type": "execute_result"
    }
   ],
   "source": [
    "model.get_layer(\"dense\") is hidden_1"
   ]
  },
  {
   "cell_type": "code",
   "execution_count": 17,
   "metadata": {},
   "outputs": [],
   "source": [
    "weights, biases = hidden_1.get_weights()"
   ]
  },
  {
   "cell_type": "code",
   "execution_count": 18,
   "metadata": {},
   "outputs": [
    {
     "data": {
      "text/plain": [
       "array([[-0.01134795, -0.00675106, -0.05229093, ..., -0.00418186,\n",
       "        -0.0598775 ,  0.07106587],\n",
       "       [-0.06409153,  0.06776159, -0.02407165, ...,  0.04460551,\n",
       "         0.01744158,  0.05997975],\n",
       "       [ 0.03930804,  0.04812739, -0.05321988, ...,  0.01309039,\n",
       "        -0.06734356, -0.04260853],\n",
       "       ...,\n",
       "       [ 0.02149198, -0.05270053, -0.03208856, ..., -0.07283658,\n",
       "         0.0736753 , -0.00592466],\n",
       "       [-0.01340818,  0.05039493,  0.01156279, ..., -0.02094003,\n",
       "        -0.01815743, -0.04891075],\n",
       "       [-0.0362381 ,  0.0325959 ,  0.00557808, ..., -0.05187834,\n",
       "        -0.01060393, -0.06449775]], dtype=float32)"
      ]
     },
     "execution_count": 18,
     "metadata": {},
     "output_type": "execute_result"
    }
   ],
   "source": [
    "weights"
   ]
  },
  {
   "cell_type": "code",
   "execution_count": 19,
   "metadata": {},
   "outputs": [
    {
     "data": {
      "text/plain": [
       "(784, 300)"
      ]
     },
     "execution_count": 19,
     "metadata": {},
     "output_type": "execute_result"
    }
   ],
   "source": [
    "weights.shape"
   ]
  },
  {
   "cell_type": "code",
   "execution_count": 20,
   "metadata": {},
   "outputs": [
    {
     "data": {
      "text/plain": [
       "array([0., 0., 0., 0., 0., 0., 0., 0., 0., 0., 0., 0., 0., 0., 0., 0., 0.,\n",
       "       0., 0., 0., 0., 0., 0., 0., 0., 0., 0., 0., 0., 0., 0., 0., 0., 0.,\n",
       "       0., 0., 0., 0., 0., 0., 0., 0., 0., 0., 0., 0., 0., 0., 0., 0., 0.,\n",
       "       0., 0., 0., 0., 0., 0., 0., 0., 0., 0., 0., 0., 0., 0., 0., 0., 0.,\n",
       "       0., 0., 0., 0., 0., 0., 0., 0., 0., 0., 0., 0., 0., 0., 0., 0., 0.,\n",
       "       0., 0., 0., 0., 0., 0., 0., 0., 0., 0., 0., 0., 0., 0., 0., 0., 0.,\n",
       "       0., 0., 0., 0., 0., 0., 0., 0., 0., 0., 0., 0., 0., 0., 0., 0., 0.,\n",
       "       0., 0., 0., 0., 0., 0., 0., 0., 0., 0., 0., 0., 0., 0., 0., 0., 0.,\n",
       "       0., 0., 0., 0., 0., 0., 0., 0., 0., 0., 0., 0., 0., 0., 0., 0., 0.,\n",
       "       0., 0., 0., 0., 0., 0., 0., 0., 0., 0., 0., 0., 0., 0., 0., 0., 0.,\n",
       "       0., 0., 0., 0., 0., 0., 0., 0., 0., 0., 0., 0., 0., 0., 0., 0., 0.,\n",
       "       0., 0., 0., 0., 0., 0., 0., 0., 0., 0., 0., 0., 0., 0., 0., 0., 0.,\n",
       "       0., 0., 0., 0., 0., 0., 0., 0., 0., 0., 0., 0., 0., 0., 0., 0., 0.,\n",
       "       0., 0., 0., 0., 0., 0., 0., 0., 0., 0., 0., 0., 0., 0., 0., 0., 0.,\n",
       "       0., 0., 0., 0., 0., 0., 0., 0., 0., 0., 0., 0., 0., 0., 0., 0., 0.,\n",
       "       0., 0., 0., 0., 0., 0., 0., 0., 0., 0., 0., 0., 0., 0., 0., 0., 0.,\n",
       "       0., 0., 0., 0., 0., 0., 0., 0., 0., 0., 0., 0., 0., 0., 0., 0., 0.,\n",
       "       0., 0., 0., 0., 0., 0., 0., 0., 0., 0., 0.], dtype=float32)"
      ]
     },
     "execution_count": 20,
     "metadata": {},
     "output_type": "execute_result"
    }
   ],
   "source": [
    "biases"
   ]
  },
  {
   "cell_type": "code",
   "execution_count": 21,
   "metadata": {},
   "outputs": [
    {
     "data": {
      "text/plain": [
       "(300,)"
      ]
     },
     "execution_count": 21,
     "metadata": {},
     "output_type": "execute_result"
    }
   ],
   "source": [
    "biases.shape"
   ]
  },
  {
   "cell_type": "code",
   "execution_count": 22,
   "metadata": {},
   "outputs": [],
   "source": [
    "model.compile(\n",
    "    loss=\"sparse_categorical_crossentropy\",\n",
    "    optimizer=\"sgd\",#keras.optimizers.SGD(lr=0.01)\n",
    "    metrics=[\"accuracy\"]\n",
    ")"
   ]
  },
  {
   "cell_type": "code",
   "execution_count": 23,
   "metadata": {},
   "outputs": [
    {
     "name": "stdout",
     "output_type": "stream",
     "text": [
      "Epoch 1/30\n",
      "1719/1719 [==============================] - 5s 3ms/step - loss: 0.7263 - accuracy: 0.7650 - val_loss: 0.5224 - val_accuracy: 0.8214\n",
      "Epoch 2/30\n",
      "1719/1719 [==============================] - 5s 3ms/step - loss: 0.4863 - accuracy: 0.8310 - val_loss: 0.4471 - val_accuracy: 0.8506\n",
      "Epoch 3/30\n",
      "1719/1719 [==============================] - 5s 3ms/step - loss: 0.4407 - accuracy: 0.8459 - val_loss: 0.4128 - val_accuracy: 0.8580\n",
      "Epoch 4/30\n",
      "1719/1719 [==============================] - 4s 2ms/step - loss: 0.4137 - accuracy: 0.8548 - val_loss: 0.4182 - val_accuracy: 0.8520\n",
      "Epoch 5/30\n",
      "1719/1719 [==============================] - 4s 3ms/step - loss: 0.3927 - accuracy: 0.8610 - val_loss: 0.3862 - val_accuracy: 0.8664\n",
      "Epoch 6/30\n",
      "1719/1719 [==============================] - 5s 3ms/step - loss: 0.3783 - accuracy: 0.8671 - val_loss: 0.3720 - val_accuracy: 0.8748\n",
      "Epoch 7/30\n",
      "1719/1719 [==============================] - 4s 3ms/step - loss: 0.3659 - accuracy: 0.8703 - val_loss: 0.3684 - val_accuracy: 0.8702\n",
      "Epoch 8/30\n",
      "1719/1719 [==============================] - 4s 3ms/step - loss: 0.3544 - accuracy: 0.8734 - val_loss: 0.3568 - val_accuracy: 0.8796\n",
      "Epoch 9/30\n",
      "1719/1719 [==============================] - 4s 3ms/step - loss: 0.3438 - accuracy: 0.8784 - val_loss: 0.3773 - val_accuracy: 0.8660\n",
      "Epoch 10/30\n",
      "1719/1719 [==============================] - 4s 3ms/step - loss: 0.3356 - accuracy: 0.8797 - val_loss: 0.3457 - val_accuracy: 0.8790\n",
      "Epoch 11/30\n",
      "1719/1719 [==============================] - 4s 3ms/step - loss: 0.3268 - accuracy: 0.8833 - val_loss: 0.3422 - val_accuracy: 0.8822\n",
      "Epoch 12/30\n",
      "1719/1719 [==============================] - 5s 3ms/step - loss: 0.3202 - accuracy: 0.8849 - val_loss: 0.3391 - val_accuracy: 0.8806\n",
      "Epoch 13/30\n",
      "1719/1719 [==============================] - 4s 3ms/step - loss: 0.3120 - accuracy: 0.8883 - val_loss: 0.3390 - val_accuracy: 0.8820\n",
      "Epoch 14/30\n",
      "1719/1719 [==============================] - 5s 3ms/step - loss: 0.3056 - accuracy: 0.8903 - val_loss: 0.3307 - val_accuracy: 0.8838\n",
      "Epoch 15/30\n",
      "1719/1719 [==============================] - 4s 3ms/step - loss: 0.2987 - accuracy: 0.8931 - val_loss: 0.3347 - val_accuracy: 0.8848\n",
      "Epoch 16/30\n",
      "1719/1719 [==============================] - 5s 3ms/step - loss: 0.2923 - accuracy: 0.8946 - val_loss: 0.3343 - val_accuracy: 0.8816\n",
      "Epoch 17/30\n",
      "1719/1719 [==============================] - 4s 3ms/step - loss: 0.2870 - accuracy: 0.8963 - val_loss: 0.3391 - val_accuracy: 0.8812\n",
      "Epoch 18/30\n",
      "1719/1719 [==============================] - 4s 3ms/step - loss: 0.2817 - accuracy: 0.8971 - val_loss: 0.3422 - val_accuracy: 0.8774\n",
      "Epoch 19/30\n",
      "1719/1719 [==============================] - 4s 3ms/step - loss: 0.2763 - accuracy: 0.8987 - val_loss: 0.3234 - val_accuracy: 0.8828\n",
      "Epoch 20/30\n",
      "1719/1719 [==============================] - 5s 3ms/step - loss: 0.2705 - accuracy: 0.9027 - val_loss: 0.3351 - val_accuracy: 0.8782\n",
      "Epoch 21/30\n",
      "1719/1719 [==============================] - 4s 3ms/step - loss: 0.2669 - accuracy: 0.9034 - val_loss: 0.3048 - val_accuracy: 0.8922\n",
      "Epoch 22/30\n",
      "1719/1719 [==============================] - 5s 3ms/step - loss: 0.2611 - accuracy: 0.9062 - val_loss: 0.3073 - val_accuracy: 0.8916\n",
      "Epoch 23/30\n",
      "1719/1719 [==============================] - 4s 3ms/step - loss: 0.2560 - accuracy: 0.9084 - val_loss: 0.3066 - val_accuracy: 0.8870\n",
      "Epoch 24/30\n",
      "1719/1719 [==============================] - 4s 2ms/step - loss: 0.2505 - accuracy: 0.9096 - val_loss: 0.3123 - val_accuracy: 0.8892\n",
      "Epoch 25/30\n",
      "1719/1719 [==============================] - 5s 3ms/step - loss: 0.2475 - accuracy: 0.9107 - val_loss: 0.3012 - val_accuracy: 0.8940\n",
      "Epoch 26/30\n",
      "1719/1719 [==============================] - 5s 3ms/step - loss: 0.2433 - accuracy: 0.9128 - val_loss: 0.2986 - val_accuracy: 0.8932\n",
      "Epoch 27/30\n",
      "1719/1719 [==============================] - 4s 2ms/step - loss: 0.2393 - accuracy: 0.9148 - val_loss: 0.2970 - val_accuracy: 0.8936\n",
      "Epoch 28/30\n",
      "1719/1719 [==============================] - 4s 3ms/step - loss: 0.2358 - accuracy: 0.9158 - val_loss: 0.2994 - val_accuracy: 0.8918\n",
      "Epoch 29/30\n",
      "1719/1719 [==============================] - 5s 3ms/step - loss: 0.2322 - accuracy: 0.9161 - val_loss: 0.3127 - val_accuracy: 0.8866\n",
      "Epoch 30/30\n",
      "1719/1719 [==============================] - 4s 2ms/step - loss: 0.2280 - accuracy: 0.9182 - val_loss: 0.3057 - val_accuracy: 0.8918\n"
     ]
    }
   ],
   "source": [
    "history = model.fit(X_train, y_train, epochs=30, validation_data=(X_valid, y_valid))"
   ]
  },
  {
   "cell_type": "code",
   "execution_count": 3,
   "metadata": {},
   "outputs": [],
   "source": [
    "import pandas as pd"
   ]
  },
  {
   "cell_type": "code",
   "execution_count": 25,
   "metadata": {},
   "outputs": [
    {
     "data": {
      "image/png": "[encoded data removed]",
      "text/plain": [
       "<Figure size 432x288 with 1 Axes>"
      ]
     },
     "metadata": {
      "needs_background": "light"
     },
     "output_type": "display_data"
    }
   ],
   "source": [
    "history_df = pd.DataFrame(history.history)\n",
    "plt.plot(history_df)\n",
    "plt.grid(True)\n",
    "plt.gca().set_ylim(0, 1)# set vertical range to [0-1]\n",
    "plt.gca().set_xlim(0, 28)\n",
    "plt.legend(history_df.keys())\n",
    "plt.show()"
   ]
  },
  {
   "cell_type": "markdown",
   "metadata": {},
   "source": [
    "## Creating Regression MLP"
   ]
  },
  {
   "cell_type": "code",
   "execution_count": 4,
   "metadata": {},
   "outputs": [],
   "source": [
    "from sklearn.datasets import fetch_california_housing\n",
    "from sklearn.model_selection import train_test_split\n",
    "from sklearn.preprocessing import StandardScaler\n",
    "import numpy as np\n",
    "\n",
    "housing = fetch_california_housing()\n",
    "\n",
    "X_train_full, X_test, y_train_full, y_test = train_test_split(housing.data, housing.target, random_state=42)\n",
    "X_train, X_valid, y_train, y_valid = train_test_split(X_train_full, y_train_full, random_state=42)\n",
    "\n",
    "scaler = StandardScaler()\n",
    "X_train = scaler.fit_transform(X_train)\n",
    "X_valid = scaler.transform(X_valid)\n",
    "X_test = scaler.transform(X_test)"
   ]
  },
  {
   "cell_type": "code",
   "execution_count": 5,
   "metadata": {},
   "outputs": [],
   "source": [
    "np.random.seed(42)\n",
    "tf.random.set_seed(42)"
   ]
  },
  {
   "cell_type": "code",
   "execution_count": 6,
   "metadata": {},
   "outputs": [
    {
     "name": "stdout",
     "output_type": "stream",
     "text": [
      "Epoch 1/20\n",
      "363/363 [==============================] - 1s 1ms/step - loss: 2.4200 - val_loss: 1.0181\n",
      "Epoch 2/20\n",
      "363/363 [==============================] - 0s 1ms/step - loss: 0.7798 - val_loss: 0.7563\n",
      "Epoch 3/20\n",
      "363/363 [==============================] - 0s 876us/step - loss: 0.7037 - val_loss: 0.7841\n",
      "Epoch 4/20\n",
      "363/363 [==============================] - 0s 873us/step - loss: 0.6712 - val_loss: 0.6663\n",
      "Epoch 5/20\n",
      "363/363 [==============================] - 0s 994us/step - loss: 0.6441 - val_loss: 0.6499\n",
      "Epoch 6/20\n",
      "363/363 [==============================] - 0s 892us/step - loss: 0.6179 - val_loss: 0.6545\n",
      "Epoch 7/20\n",
      "363/363 [==============================] - 0s 928us/step - loss: 0.5921 - val_loss: 0.6719\n",
      "Epoch 8/20\n",
      "363/363 [==============================] - 0s 981us/step - loss: 0.5657 - val_loss: 0.5655\n",
      "Epoch 9/20\n",
      "363/363 [==============================] - 0s 873us/step - loss: 0.5399 - val_loss: 0.5907\n",
      "Epoch 10/20\n",
      "363/363 [==============================] - 0s 895us/step - loss: 0.5188 - val_loss: 0.5879\n",
      "Epoch 11/20\n",
      "363/363 [==============================] - 0s 936us/step - loss: 0.5024 - val_loss: 0.4814\n",
      "Epoch 12/20\n",
      "363/363 [==============================] - 0s 876us/step - loss: 0.4886 - val_loss: 0.5362\n",
      "Epoch 13/20\n",
      "363/363 [==============================] - 0s 862us/step - loss: 0.4781 - val_loss: 0.4879\n",
      "Epoch 14/20\n",
      "363/363 [==============================] - 0s 889us/step - loss: 0.4689 - val_loss: 0.4665\n",
      "Epoch 15/20\n",
      "363/363 [==============================] - 0s 895us/step - loss: 0.4613 - val_loss: 0.4532\n",
      "Epoch 16/20\n",
      "363/363 [==============================] - 0s 859us/step - loss: 0.4547 - val_loss: 0.4443\n",
      "Epoch 17/20\n",
      "363/363 [==============================] - 0s 906us/step - loss: 0.4494 - val_loss: 0.4332\n",
      "Epoch 18/20\n",
      "363/363 [==============================] - 0s 873us/step - loss: 0.4443 - val_loss: 0.4235\n",
      "Epoch 19/20\n",
      "363/363 [==============================] - 0s 834us/step - loss: 0.4396 - val_loss: 0.4300\n",
      "Epoch 20/20\n",
      "363/363 [==============================] - 0s 884us/step - loss: 0.4359 - val_loss: 0.4100\n",
      "162/162 [==============================] - 0s 640us/step - loss: 0.4316\n",
      "1/1 [==============================] - 0s 54ms/step\n"
     ]
    }
   ],
   "source": [
    "model = keras.models.Sequential([\n",
    "    keras.layers.Dense(30, activation=\"relu\", input_shape=X_train.shape[1:]),\n",
    "    keras.layers.Dense(1)\n",
    "])\n",
    "model.compile(loss=\"mean_squared_error\", optimizer=keras.optimizers.SGD(learning_rate=1e-3))\n",
    "history = model.fit(X_train, y_train, epochs=20, validation_data=(X_valid, y_valid))\n",
    "mse_test = model.evaluate(X_test, y_test)\n",
    "X_new = X_test[:3]\n",
    "y_pred = model.predict(X_new)"
   ]
  },
  {
   "cell_type": "code",
   "execution_count": 7,
   "metadata": {},
   "outputs": [
    {
     "data": {
      "image/png": "[encoded data removed]",
      "text/plain": [
       "<Figure size 432x288 with 1 Axes>"
      ]
     },
     "metadata": {
      "needs_background": "light"
     },
     "output_type": "display_data"
    }
   ],
   "source": [
    "plt.plot(pd.DataFrame(history.history))\n",
    "plt.grid(True)\n",
    "plt.gca().set_ylim(0, 1)\n",
    "plt.show()"
   ]
  },
  {
   "cell_type": "code",
   "execution_count": 8,
   "metadata": {},
   "outputs": [
    {
     "data": {
      "text/plain": [
       "array([[0.70348686],\n",
       "       [1.5545306 ],\n",
       "       [3.2732475 ]], dtype=float32)"
      ]
     },
     "execution_count": 8,
     "metadata": {},
     "output_type": "execute_result"
    }
   ],
   "source": [
    "y_pred"
   ]
  },
  {
   "cell_type": "markdown",
   "metadata": {},
   "source": [
    "## Functional API"
   ]
  },
  {
   "cell_type": "code",
   "execution_count": 9,
   "metadata": {},
   "outputs": [],
   "source": [
    "np.random.seed(42)\n",
    "tf.random.set_seed(42)"
   ]
  },
  {
   "cell_type": "code",
   "execution_count": 10,
   "metadata": {},
   "outputs": [],
   "source": [
    "input = keras.layers.Input(shape=X_train.shape[1:])\n",
    "hidden1 = keras.layers.Dense(30, activation=\"relu\")(input)\n",
    "hidden2 = keras.layers.Dense(30, activation=\"relu\")(hidden1)\n",
    "concat = keras.layers.concatenate([input, hidden2])\n",
    "output = keras.layers.Dense(1)(concat)\n",
    "model = keras.models.Model(inputs=[input], outputs=[output])"
   ]
  },
  {
   "cell_type": "code",
   "execution_count": 11,
   "metadata": {},
   "outputs": [
    {
     "name": "stdout",
     "output_type": "stream",
     "text": [
      "Model: \"model\"\n",
      "__________________________________________________________________________________________________\n",
      " Layer (type)                   Output Shape         Param #     Connected to                     \n",
      "==================================================================================================\n",
      " input_1 (InputLayer)           [(None, 8)]          0           []                               \n",
      "                                                                                                  \n",
      " dense_2 (Dense)                (None, 30)           270         ['input_1[0][0]']                \n",
      "                                                                                                  \n",
      " dense_3 (Dense)                (None, 30)           930         ['dense_2[0][0]']                \n",
      "                                                                                                  \n",
      " concatenate (Concatenate)      (None, 38)           0           ['input_1[0][0]',                \n",
      "                                                                  'dense_3[0][0]']                \n",
      "                                                                                                  \n",
      " dense_4 (Dense)                (None, 1)            39          ['concatenate[0][0]']            \n",
      "                                                                                                  \n",
      "==================================================================================================\n",
      "Total params: 1,239\n",
      "Trainable params: 1,239\n",
      "Non-trainable params: 0\n",
      "__________________________________________________________________________________________________\n"
     ]
    }
   ],
   "source": [
    "model.summary()"
   ]
  },
  {
   "cell_type": "code",
   "execution_count": 12,
   "metadata": {},
   "outputs": [
    {
     "name": "stdout",
     "output_type": "stream",
     "text": [
      "Epoch 1/20\n",
      "363/363 [==============================] - 1s 1ms/step - loss: 2.2820 - val_loss: 0.8227\n",
      "Epoch 2/20\n",
      "363/363 [==============================] - 0s 859us/step - loss: 0.7469 - val_loss: 1.0210\n",
      "Epoch 3/20\n",
      "363/363 [==============================] - 0s 917us/step - loss: 0.6876 - val_loss: 0.6360\n",
      "Epoch 4/20\n",
      "363/363 [==============================] - 0s 909us/step - loss: 0.6368 - val_loss: 0.5758\n",
      "Epoch 5/20\n",
      "363/363 [==============================] - 0s 859us/step - loss: 0.6031 - val_loss: 0.5920\n",
      "Epoch 6/20\n",
      "363/363 [==============================] - 0s 895us/step - loss: 0.5713 - val_loss: 0.5823\n",
      "Epoch 7/20\n",
      "363/363 [==============================] - 0s 925us/step - loss: 0.5507 - val_loss: 0.5520\n",
      "Epoch 8/20\n",
      "363/363 [==============================] - 0s 856us/step - loss: 0.5319 - val_loss: 0.5725\n",
      "Epoch 9/20\n",
      "363/363 [==============================] - 0s 903us/step - loss: 0.5122 - val_loss: 0.4879\n",
      "Epoch 10/20\n",
      "363/363 [==============================] - 0s 912us/step - loss: 0.4978 - val_loss: 0.4991\n",
      "Epoch 11/20\n",
      "363/363 [==============================] - 0s 865us/step - loss: 0.4861 - val_loss: 0.6780\n",
      "Epoch 12/20\n",
      "363/363 [==============================] - 0s 876us/step - loss: 0.4731 - val_loss: 0.5664\n",
      "Epoch 13/20\n",
      "363/363 [==============================] - 0s 917us/step - loss: 0.4657 - val_loss: 0.4578\n",
      "Epoch 14/20\n",
      "363/363 [==============================] - 0s 873us/step - loss: 0.4549 - val_loss: 0.4189\n",
      "Epoch 15/20\n",
      "363/363 [==============================] - 0s 873us/step - loss: 0.4470 - val_loss: 0.4142\n",
      "Epoch 16/20\n",
      "363/363 [==============================] - 0s 914us/step - loss: 0.4401 - val_loss: 0.4074\n",
      "Epoch 17/20\n",
      "363/363 [==============================] - 0s 862us/step - loss: 0.4340 - val_loss: 0.4394\n",
      "Epoch 18/20\n",
      "363/363 [==============================] - 0s 867us/step - loss: 0.4296 - val_loss: 0.4314\n",
      "Epoch 19/20\n",
      "363/363 [==============================] - 0s 912us/step - loss: 0.4241 - val_loss: 0.3987\n",
      "Epoch 20/20\n",
      "363/363 [==============================] - 0s 876us/step - loss: 0.4205 - val_loss: 0.4454\n",
      "162/162 [==============================] - 0s 621us/step - loss: 0.4158\n",
      "1/1 [==============================] - 0s 38ms/step\n"
     ]
    }
   ],
   "source": [
    "model.compile(loss=\"mean_squared_error\", optimizer=keras.optimizers.SGD(learning_rate=1e-3))\n",
    "history = model.fit(X_train, y_train, epochs=20, validation_data=(X_valid, y_valid))\n",
    "mse_test = model.evaluate(X_test, y_test)\n",
    "y_pred = model.predict(X_new)"
   ]
  },
  {
   "cell_type": "markdown",
   "metadata": {},
   "source": [
    "What if you want to send different subsets of input features through the wide or deep paths? We will send 5 features (features 0 to 4), and 6 through the deep path (features 2 to 7). Note that 3 features will go through both (features 2, 3 and 4)."
   ]
  },
  {
   "cell_type": "code",
   "execution_count": 13,
   "metadata": {},
   "outputs": [],
   "source": [
    "input_A = keras.layers.Input(shape=[5], name=\"wide_input\")\n",
    "input_B = keras.layers.Input(shape=[6], name=\"deep_input\")\n",
    "hidden1 = keras.layers.Dense(30, activation=\"relu\")(input_B)\n",
    "hidden2 = keras.layers.Dense(30, activation=\"relu\")(hidden1)\n",
    "concat = keras.layers.concatenate([input_A, hidden2])\n",
    "output = keras.layers.Dense(1)(concat)\n",
    "model = keras.models.Model(inputs=[input_A, input_B], outputs=[output])"
   ]
  },
  {
   "cell_type": "code",
   "execution_count": 14,
   "metadata": {},
   "outputs": [
    {
     "name": "stdout",
     "output_type": "stream",
     "text": [
      "Model: \"model_1\"\n",
      "__________________________________________________________________________________________________\n",
      " Layer (type)                   Output Shape         Param #     Connected to                     \n",
      "==================================================================================================\n",
      " deep_input (InputLayer)        [(None, 6)]          0           []                               \n",
      "                                                                                                  \n",
      " dense_5 (Dense)                (None, 30)           210         ['deep_input[0][0]']             \n",
      "                                                                                                  \n",
      " wide_input (InputLayer)        [(None, 5)]          0           []                               \n",
      "                                                                                                  \n",
      " dense_6 (Dense)                (None, 30)           930         ['dense_5[0][0]']                \n",
      "                                                                                                  \n",
      " concatenate_1 (Concatenate)    (None, 35)           0           ['wide_input[0][0]',             \n",
      "                                                                  'dense_6[0][0]']                \n",
      "                                                                                                  \n",
      " dense_7 (Dense)                (None, 1)            36          ['concatenate_1[0][0]']          \n",
      "                                                                                                  \n",
      "==================================================================================================\n",
      "Total params: 1,176\n",
      "Trainable params: 1,176\n",
      "Non-trainable params: 0\n",
      "__________________________________________________________________________________________________\n"
     ]
    }
   ],
   "source": [
    "model.summary()"
   ]
  },
  {
   "cell_type": "code",
   "execution_count": 15,
   "metadata": {},
   "outputs": [
    {
     "name": "stdout",
     "output_type": "stream",
     "text": [
      "Epoch 1/20\n",
      "363/363 [==============================] - 1s 1ms/step - loss: 1.8804 - val_loss: 1.3921\n",
      "Epoch 2/20\n",
      "363/363 [==============================] - 0s 956us/step - loss: 0.7817 - val_loss: 0.8641\n",
      "Epoch 3/20\n",
      "363/363 [==============================] - 0s 1ms/step - loss: 0.6972 - val_loss: 0.6857\n",
      "Epoch 4/20\n",
      "363/363 [==============================] - 0s 934us/step - loss: 0.6581 - val_loss: 0.6298\n",
      "Epoch 5/20\n",
      "363/363 [==============================] - 0s 953us/step - loss: 0.6310 - val_loss: 0.5952\n",
      "Epoch 6/20\n",
      "363/363 [==============================] - 0s 986us/step - loss: 0.6088 - val_loss: 0.5740\n",
      "Epoch 7/20\n",
      "363/363 [==============================] - 0s 923us/step - loss: 0.5888 - val_loss: 0.5560\n",
      "Epoch 8/20\n",
      "363/363 [==============================] - 0s 981us/step - loss: 0.5709 - val_loss: 0.5413\n",
      "Epoch 9/20\n",
      "363/363 [==============================] - 0s 986us/step - loss: 0.5543 - val_loss: 0.5259\n",
      "Epoch 10/20\n",
      "363/363 [==============================] - 0s 928us/step - loss: 0.5394 - val_loss: 0.5093\n",
      "Epoch 11/20\n",
      "363/363 [==============================] - 0s 986us/step - loss: 0.5261 - val_loss: 0.4944\n",
      "Epoch 12/20\n",
      "363/363 [==============================] - 0s 970us/step - loss: 0.5136 - val_loss: 0.4823\n",
      "Epoch 13/20\n",
      "363/363 [==============================] - 0s 931us/step - loss: 0.5023 - val_loss: 0.4706\n",
      "Epoch 14/20\n",
      "363/363 [==============================] - 0s 1ms/step - loss: 0.4923 - val_loss: 0.4614\n",
      "Epoch 15/20\n",
      "363/363 [==============================] - 0s 953us/step - loss: 0.4832 - val_loss: 0.4499\n",
      "Epoch 16/20\n",
      "363/363 [==============================] - 0s 928us/step - loss: 0.4751 - val_loss: 0.4425\n",
      "Epoch 17/20\n",
      "363/363 [==============================] - 0s 992us/step - loss: 0.4675 - val_loss: 0.4347\n",
      "Epoch 18/20\n",
      "363/363 [==============================] - 0s 945us/step - loss: 0.4612 - val_loss: 0.4271\n",
      "Epoch 19/20\n",
      "363/363 [==============================] - 0s 948us/step - loss: 0.4548 - val_loss: 0.4225\n",
      "Epoch 20/20\n",
      "363/363 [==============================] - 0s 992us/step - loss: 0.4501 - val_loss: 0.4201\n",
      "162/162 [==============================] - 0s 671us/step - loss: 0.4448\n",
      "1/1 [==============================] - 0s 39ms/step\n"
     ]
    }
   ],
   "source": [
    "model.compile(loss=\"mse\", optimizer=keras.optimizers.SGD(learning_rate=1e-3))\n",
    "\n",
    "X_train_A, X_train_B = X_train[:, :5], X_train[:, 2:]\n",
    "X_valid_A, X_valid_B = X_valid[:, :5], X_valid[:, 2:]\n",
    "X_test_A, X_test_B = X_test[:, :5], X_test[:, 2:]\n",
    "X_new_A, X_new_B = X_test_A[:3], X_test_B[:3]\n",
    "\n",
    "history = model.fit([X_train_A, X_train_B], y_train, epochs=20, validation_data=((X_valid_A, X_valid_B), y_valid))\n",
    "mse_test = model.evaluate((X_test_A, X_test_B), y_test)\n",
    "y_pred = model.predict((X_new_A, X_new_B))"
   ]
  },
  {
   "cell_type": "markdown",
   "metadata": {},
   "source": [
    "Adding an auxiliary output for regularization"
   ]
  },
  {
   "cell_type": "code",
   "execution_count": 16,
   "metadata": {},
   "outputs": [],
   "source": [
    "input_A = keras.layers.Input(shape=[5], name=\"wide_input\")\n",
    "input_B = keras.layers.Input(shape=[6], name=\"deep_input\")\n",
    "hidden1 = keras.layers.Dense(30, activation=\"relu\")(input_B)\n",
    "hidden2 = keras.layers.Dense(30, activation=\"relu\")(hidden1)\n",
    "concat = keras.layers.concatenate([input_A, hidden2])\n",
    "output = keras.layers.Dense(1, name=\"main_output\")(concat)\n",
    "aux_output = keras.layers.Dense(1, name=\"aux_output\")(hidden2)\n",
    "model = keras.models.Model(inputs=[input_A, input_B],\n",
    "                           outputs=[output, aux_output])"
   ]
  },
  {
   "cell_type": "code",
   "execution_count": 17,
   "metadata": {},
   "outputs": [
    {
     "name": "stdout",
     "output_type": "stream",
     "text": [
      "Model: \"model_2\"\n",
      "__________________________________________________________________________________________________\n",
      " Layer (type)                   Output Shape         Param #     Connected to                     \n",
      "==================================================================================================\n",
      " deep_input (InputLayer)        [(None, 6)]          0           []                               \n",
      "                                                                                                  \n",
      " dense_8 (Dense)                (None, 30)           210         ['deep_input[0][0]']             \n",
      "                                                                                                  \n",
      " wide_input (InputLayer)        [(None, 5)]          0           []                               \n",
      "                                                                                                  \n",
      " dense_9 (Dense)                (None, 30)           930         ['dense_8[0][0]']                \n",
      "                                                                                                  \n",
      " concatenate_2 (Concatenate)    (None, 35)           0           ['wide_input[0][0]',             \n",
      "                                                                  'dense_9[0][0]']                \n",
      "                                                                                                  \n",
      " main_output (Dense)            (None, 1)            36          ['concatenate_2[0][0]']          \n",
      "                                                                                                  \n",
      " aux_output (Dense)             (None, 1)            31          ['dense_9[0][0]']                \n",
      "                                                                                                  \n",
      "==================================================================================================\n",
      "Total params: 1,207\n",
      "Trainable params: 1,207\n",
      "Non-trainable params: 0\n",
      "__________________________________________________________________________________________________\n"
     ]
    }
   ],
   "source": [
    "model.summary()"
   ]
  },
  {
   "cell_type": "code",
   "execution_count": 18,
   "metadata": {},
   "outputs": [],
   "source": [
    "model.compile(loss=[\"mse\", \"mse\"], loss_weights=[0.9, 0.1], optimizer=keras.optimizers.SGD(learning_rate=1e-3))\n"
   ]
  },
  {
   "cell_type": "code",
   "execution_count": 19,
   "metadata": {},
   "outputs": [
    {
     "name": "stdout",
     "output_type": "stream",
     "text": [
      "Epoch 1/20\n",
      "363/363 [==============================] - 1s 1ms/step - loss: 2.5552 - main_output_loss: 2.2043 - aux_output_loss: 5.7129 - val_loss: 1.5826 - val_main_output_loss: 1.2566 - val_aux_output_loss: 4.5164\n",
      "Epoch 2/20\n",
      "363/363 [==============================] - 0s 1ms/step - loss: 1.0489 - main_output_loss: 0.7486 - aux_output_loss: 3.7516 - val_loss: 1.0307 - val_main_output_loss: 0.7354 - val_aux_output_loss: 3.6885\n",
      "Epoch 3/20\n",
      "363/363 [==============================] - 0s 1ms/step - loss: 0.8453 - main_output_loss: 0.6560 - aux_output_loss: 2.5497 - val_loss: 0.8833 - val_main_output_loss: 0.5964 - val_aux_output_loss: 3.4652\n",
      "Epoch 4/20\n",
      "363/363 [==============================] - 0s 1ms/step - loss: 0.7402 - main_output_loss: 0.6090 - aux_output_loss: 1.9212 - val_loss: 0.8435 - val_main_output_loss: 0.5629 - val_aux_output_loss: 3.3690\n",
      "Epoch 5/20\n",
      "363/363 [==============================] - 0s 1ms/step - loss: 0.6788 - main_output_loss: 0.5757 - aux_output_loss: 1.6073 - val_loss: 0.7933 - val_main_output_loss: 0.5318 - val_aux_output_loss: 3.1467\n",
      "Epoch 6/20\n",
      "363/363 [==============================] - 0s 1ms/step - loss: 0.6382 - main_output_loss: 0.5483 - aux_output_loss: 1.4472 - val_loss: 0.7488 - val_main_output_loss: 0.5165 - val_aux_output_loss: 2.8393\n",
      "Epoch 7/20\n",
      "363/363 [==============================] - 0s 1ms/step - loss: 0.6082 - main_output_loss: 0.5255 - aux_output_loss: 1.3529 - val_loss: 0.7016 - val_main_output_loss: 0.5005 - val_aux_output_loss: 2.5115\n",
      "Epoch 8/20\n",
      "363/363 [==============================] - 0s 1ms/step - loss: 0.5854 - main_output_loss: 0.5076 - aux_output_loss: 1.2861 - val_loss: 0.6472 - val_main_output_loss: 0.4713 - val_aux_output_loss: 2.2297\n",
      "Epoch 9/20\n",
      "363/363 [==============================] - 0s 1ms/step - loss: 0.5664 - main_output_loss: 0.4920 - aux_output_loss: 1.2367 - val_loss: 0.6072 - val_main_output_loss: 0.4571 - val_aux_output_loss: 1.9580\n",
      "Epoch 10/20\n",
      "363/363 [==============================] - 0s 1ms/step - loss: 0.5508 - main_output_loss: 0.4793 - aux_output_loss: 1.1943 - val_loss: 0.5733 - val_main_output_loss: 0.4444 - val_aux_output_loss: 1.7334\n",
      "Epoch 11/20\n",
      "363/363 [==============================] - 0s 1ms/step - loss: 0.5378 - main_output_loss: 0.4690 - aux_output_loss: 1.1571 - val_loss: 0.5442 - val_main_output_loss: 0.4302 - val_aux_output_loss: 1.5707\n",
      "Epoch 12/20\n",
      "363/363 [==============================] - 0s 1ms/step - loss: 0.5267 - main_output_loss: 0.4603 - aux_output_loss: 1.1242 - val_loss: 0.5229 - val_main_output_loss: 0.4235 - val_aux_output_loss: 1.4177\n",
      "Epoch 13/20\n",
      "363/363 [==============================] - 0s 1ms/step - loss: 0.5172 - main_output_loss: 0.4531 - aux_output_loss: 1.0938 - val_loss: 0.5064 - val_main_output_loss: 0.4160 - val_aux_output_loss: 1.3195\n",
      "Epoch 14/20\n",
      "363/363 [==============================] - 0s 1ms/step - loss: 0.5090 - main_output_loss: 0.4471 - aux_output_loss: 1.0657 - val_loss: 0.4914 - val_main_output_loss: 0.4121 - val_aux_output_loss: 1.2054\n",
      "Epoch 15/20\n",
      "363/363 [==============================] - 0s 1ms/step - loss: 0.5018 - main_output_loss: 0.4421 - aux_output_loss: 1.0385 - val_loss: 0.4813 - val_main_output_loss: 0.4067 - val_aux_output_loss: 1.1527\n",
      "Epoch 16/20\n",
      "363/363 [==============================] - 0s 1ms/step - loss: 0.4955 - main_output_loss: 0.4378 - aux_output_loss: 1.0154 - val_loss: 0.4696 - val_main_output_loss: 0.4022 - val_aux_output_loss: 1.0762\n",
      "Epoch 17/20\n",
      "363/363 [==============================] - 0s 1ms/step - loss: 0.4900 - main_output_loss: 0.4342 - aux_output_loss: 0.9921 - val_loss: 0.4635 - val_main_output_loss: 0.3999 - val_aux_output_loss: 1.0353\n",
      "Epoch 18/20\n",
      "363/363 [==============================] - 0s 1ms/step - loss: 0.4849 - main_output_loss: 0.4309 - aux_output_loss: 0.9711 - val_loss: 0.4571 - val_main_output_loss: 0.3974 - val_aux_output_loss: 0.9944\n",
      "Epoch 19/20\n",
      "363/363 [==============================] - 0s 1ms/step - loss: 0.4801 - main_output_loss: 0.4278 - aux_output_loss: 0.9509 - val_loss: 0.4502 - val_main_output_loss: 0.3941 - val_aux_output_loss: 0.9547\n",
      "Epoch 20/20\n",
      "363/363 [==============================] - 0s 1ms/step - loss: 0.4762 - main_output_loss: 0.4255 - aux_output_loss: 0.9322 - val_loss: 0.4569 - val_main_output_loss: 0.4035 - val_aux_output_loss: 0.9380\n"
     ]
    }
   ],
   "source": [
    "history = model.fit([X_train_A, X_train_B], [y_train, y_train], epochs=20,\n",
    "                    validation_data=([X_valid_A, X_valid_B], [y_valid, y_valid]))"
   ]
  },
  {
   "cell_type": "code",
   "execution_count": 20,
   "metadata": {},
   "outputs": [
    {
     "name": "stdout",
     "output_type": "stream",
     "text": [
      "162/162 [==============================] - 0s 851us/step - loss: 0.4657 - main_output_loss: 0.4174 - aux_output_loss: 0.9007\n",
      "1/1 [==============================] - 0s 45ms/step\n"
     ]
    }
   ],
   "source": [
    "total_loss, main_loss, aux_loss = model.evaluate(\n",
    "    [X_test_A, X_test_B], [y_test, y_test]\n",
    ")\n",
    "y_pred_main, y_pred_aux = model.predict([X_new_A, X_new_B])"
   ]
  },
  {
   "cell_type": "code",
   "execution_count": 21,
   "metadata": {},
   "outputs": [
    {
     "data": {
      "image/png": "[encoded data removed]",
      "text/plain": [
       "<Figure size 432x288 with 1 Axes>"
      ]
     },
     "metadata": {
      "needs_background": "light"
     },
     "output_type": "display_data"
    }
   ],
   "source": [
    "plt.plot(y_test[:3], 'r-')\n",
    "plt.plot(y_pred_main, 'g-')\n",
    "plt.plot(y_pred_aux, 'b-')\n",
    "plt.show()"
   ]
  },
  {
   "cell_type": "markdown",
   "metadata": {},
   "source": [
    "## Subclassing API"
   ]
  },
  {
   "cell_type": "code",
   "execution_count": 36,
   "metadata": {},
   "outputs": [],
   "source": [
    "class WideAndDeepModel(keras.models.Model):\n",
    "    def __init__(self, units=30, activation=\"relu\", **kwargs):\n",
    "        super().__init__(**kwargs)\n",
    "        self.hidden1 = keras.layers.Dense(units, activation=activation)\n",
    "        self.hidden2 = keras.layers.Dense(units, activation=activation)\n",
    "        self.main_output = keras.layers.Dense(1)\n",
    "        self.aux_output = keras.layers.Dense(1)\n",
    "\n",
    "    def call(self, inputs):\n",
    "        input_A, input_B = inputs\n",
    "        hidden1 = self.hidden1(input_B)\n",
    "        hidden2 = self.hidden2(hidden1)\n",
    "        concat = keras.layers.concatenate([input_A, hidden2])\n",
    "        main_output = self.main_output(concat)\n",
    "        aux_output = self.aux_output(hidden2)\n",
    "        return main_output, aux_output\n",
    "\n",
    "model = WideAndDeepModel(30, activation=\"relu\")"
   ]
  },
  {
   "cell_type": "code",
   "execution_count": 38,
   "metadata": {},
   "outputs": [
    {
     "name": "stdout",
     "output_type": "stream",
     "text": [
      "Epoch 1/10\n",
      "363/363 [==============================] - 1s 1ms/step - loss: 2.1962 - output_1_loss: 1.9515 - output_2_loss: 4.3988 - val_loss: 2.2230 - val_output_1_loss: 0.8423 - val_output_2_loss: 14.6490\n",
      "Epoch 2/10\n",
      "363/363 [==============================] - 0s 1ms/step - loss: 0.9996 - output_1_loss: 0.7699 - output_2_loss: 3.0669 - val_loss: 2.0814 - val_output_1_loss: 0.6670 - val_output_2_loss: 14.8104\n",
      "Epoch 3/10\n",
      "363/363 [==============================] - 0s 1ms/step - loss: 0.8448 - output_1_loss: 0.6829 - output_2_loss: 2.3020 - val_loss: 1.9018 - val_output_1_loss: 0.6166 - val_output_2_loss: 13.4689\n",
      "Epoch 4/10\n",
      "363/363 [==============================] - 0s 1ms/step - loss: 0.7645 - output_1_loss: 0.6400 - output_2_loss: 1.8855 - val_loss: 1.6730 - val_output_1_loss: 0.5994 - val_output_2_loss: 11.3355\n",
      "Epoch 5/10\n",
      "363/363 [==============================] - 0s 1ms/step - loss: 0.7082 - output_1_loss: 0.6046 - output_2_loss: 1.6405 - val_loss: 1.4433 - val_output_1_loss: 0.5502 - val_output_2_loss: 9.4815\n",
      "Epoch 6/10\n",
      "363/363 [==============================] - 0s 1ms/step - loss: 0.6650 - output_1_loss: 0.5740 - output_2_loss: 1.4845 - val_loss: 1.2566 - val_output_1_loss: 0.5213 - val_output_2_loss: 7.8746\n",
      "Epoch 7/10\n",
      "363/363 [==============================] - 0s 1ms/step - loss: 0.6319 - output_1_loss: 0.5488 - output_2_loss: 1.3798 - val_loss: 1.1017 - val_output_1_loss: 0.4966 - val_output_2_loss: 6.5478\n",
      "Epoch 8/10\n",
      "363/363 [==============================] - 0s 1ms/step - loss: 0.6052 - output_1_loss: 0.5278 - output_2_loss: 1.3011 - val_loss: 0.9711 - val_output_1_loss: 0.4808 - val_output_2_loss: 5.3840\n",
      "Epoch 9/10\n",
      "363/363 [==============================] - 0s 1ms/step - loss: 0.5826 - output_1_loss: 0.5094 - output_2_loss: 1.2416 - val_loss: 0.8690 - val_output_1_loss: 0.4610 - val_output_2_loss: 4.5415\n",
      "Epoch 10/10\n",
      "363/363 [==============================] - 0s 1ms/step - loss: 0.5640 - output_1_loss: 0.4941 - output_2_loss: 1.1932 - val_loss: 0.7905 - val_output_1_loss: 0.4473 - val_output_2_loss: 3.8794\n",
      "162/162 [==============================] - 0s 727us/step - loss: 0.5460 - output_1_loss: 0.4794 - output_2_loss: 1.1448\n",
      "WARNING:tensorflow:6 out of the last 6 calls to <function Model.make_predict_function.<locals>.predict_function at 0x000002CD30EA6F78> triggered tf.function retracing. Tracing is expensive and the excessive number of tracings could be due to (1) creating @tf.function repeatedly in a loop, (2) passing tensors with different shapes, (3) passing Python objects instead of tensors. For (1), please define your @tf.function outside of the loop. For (2), @tf.function has reduce_retracing=True option that can avoid unnecessary retracing. For (3), please refer to https://www.tensorflow.org/guide/function#controlling_retracing and https://www.tensorflow.org/api_docs/python/tf/function for  more details.\n",
      "1/1 [==============================] - 0s 43ms/step\n"
     ]
    }
   ],
   "source": [
    "model.compile(loss=[\"mse\", \"mse\"], loss_weights=[0.9, 0.1], optimizer=keras.optimizers.SGD(learning_rate=1e-3))\n",
    "history = model.fit((X_train_A, X_train_B), (y_train, y_train), epochs=10, validation_data=([X_valid_A, X_valid_B], [y_valid, y_valid]))\n",
    "total_loss, main_loss, aux_loss = model.evaluate((X_test_A, X_test_B), (y_test, y_test))\n",
    "y_pred_main, y_pred_aux = model.predict((X_new_A, X_new_B))"
   ]
  },
  {
   "cell_type": "code",
   "execution_count": 39,
   "metadata": {},
   "outputs": [
    {
     "data": {
      "image/png": "[encoded data removed]",
      "text/plain": [
       "<Figure size 432x288 with 1 Axes>"
      ]
     },
     "metadata": {
      "needs_background": "light"
     },
     "output_type": "display_data"
    }
   ],
   "source": [
    "plt.plot(y_test[:3], 'r-')\n",
    "plt.plot(y_pred_main, 'g-')\n",
    "plt.plot(y_pred_aux, 'b-')\n",
    "plt.show()"
   ]
  },
  {
   "cell_type": "markdown",
   "metadata": {},
   "source": [
    "## Saving and Restoring"
   ]
  },
  {
   "cell_type": "code",
   "execution_count": 40,
   "metadata": {},
   "outputs": [],
   "source": [
    "np.random.seed(42)\n",
    "tf.random.set_seed(42)"
   ]
  },
  {
   "cell_type": "code",
   "execution_count": 41,
   "metadata": {},
   "outputs": [],
   "source": [
    "model = keras.models.Sequential([\n",
    "    keras.layers.Dense(30, activation=\"relu\", input_shape=[8]),\n",
    "    keras.layers.Dense(30, activation=\"relu\"),\n",
    "    keras.layers.Dense(1)\n",
    "])"
   ]
  },
  {
   "cell_type": "code",
   "execution_count": 42,
   "metadata": {},
   "outputs": [
    {
     "name": "stdout",
     "output_type": "stream",
     "text": [
      "Epoch 1/10\n",
      "363/363 [==============================] - 1s 1ms/step - loss: 2.0285 - val_loss: 0.8210\n",
      "Epoch 2/10\n",
      "363/363 [==============================] - 0s 906us/step - loss: 0.7221 - val_loss: 0.8464\n",
      "Epoch 3/10\n",
      "363/363 [==============================] - 0s 881us/step - loss: 0.6360 - val_loss: 0.8058\n",
      "Epoch 4/10\n",
      "363/363 [==============================] - 0s 892us/step - loss: 0.5824 - val_loss: 0.6228\n",
      "Epoch 5/10\n",
      "363/363 [==============================] - 0s 887us/step - loss: 0.5414 - val_loss: 0.5322\n",
      "Epoch 6/10\n",
      "363/363 [==============================] - 0s 884us/step - loss: 0.5081 - val_loss: 0.5138\n",
      "Epoch 7/10\n",
      "363/363 [==============================] - 0s 890us/step - loss: 0.4834 - val_loss: 0.4955\n",
      "Epoch 8/10\n",
      "363/363 [==============================] - 0s 953us/step - loss: 0.4643 - val_loss: 0.4451\n",
      "Epoch 9/10\n",
      "363/363 [==============================] - 0s 928us/step - loss: 0.4492 - val_loss: 0.4301\n",
      "Epoch 10/10\n",
      "363/363 [==============================] - 0s 903us/step - loss: 0.4382 - val_loss: 0.4196\n",
      "162/162 [==============================] - 0s 640us/step - loss: 0.4284\n"
     ]
    }
   ],
   "source": [
    "model.compile(loss=\"mse\", optimizer=keras.optimizers.SGD(learning_rate=1e-3))\n",
    "history = model.fit(X_train, y_train, epochs=10, validation_data=(X_valid, y_valid))\n",
    "mse_test = model.evaluate(X_test, y_test)"
   ]
  },
  {
   "cell_type": "code",
   "execution_count": 43,
   "metadata": {},
   "outputs": [],
   "source": [
    "model.save(\"my_keras_model.h5\")"
   ]
  },
  {
   "cell_type": "code",
   "execution_count": 44,
   "metadata": {},
   "outputs": [],
   "source": [
    "model = keras.models.load_model(\"my_keras_model.h5\")"
   ]
  },
  {
   "cell_type": "code",
   "execution_count": 45,
   "metadata": {},
   "outputs": [
    {
     "name": "stdout",
     "output_type": "stream",
     "text": [
      "1/1 [==============================] - 0s 37ms/step\n"
     ]
    },
    {
     "data": {
      "text/plain": [
       "array([[0.78245854],\n",
       "       [1.6409918 ],\n",
       "       [3.4381618 ]], dtype=float32)"
      ]
     },
     "execution_count": 45,
     "metadata": {},
     "output_type": "execute_result"
    }
   ],
   "source": [
    "model.predict(X_new)"
   ]
  },
  {
   "cell_type": "markdown",
   "metadata": {},
   "source": [
    "### Saving and Loading Weights"
   ]
  },
  {
   "cell_type": "code",
   "execution_count": 46,
   "metadata": {},
   "outputs": [],
   "source": [
    "model.save_weights(\"my_keras_weights.ckpt\")"
   ]
  },
  {
   "cell_type": "code",
   "execution_count": 47,
   "metadata": {},
   "outputs": [
    {
     "data": {
      "text/plain": [
       "<tensorflow.python.checkpoint.checkpoint.CheckpointLoadStatus at 0x2cd2c5ab608>"
      ]
     },
     "execution_count": 47,
     "metadata": {},
     "output_type": "execute_result"
    }
   ],
   "source": [
    "model.load_weights(\"my_keras_weights.ckpt\")"
   ]
  },
  {
   "cell_type": "markdown",
   "metadata": {},
   "source": [
    "## Using Callbacks during Training"
   ]
  },
  {
   "cell_type": "code",
   "execution_count": 48,
   "metadata": {},
   "outputs": [],
   "source": [
    "keras.backend.clear_session()\n",
    "np.random.seed(42)\n",
    "tf.random.set_seed(42)"
   ]
  },
  {
   "cell_type": "code",
   "execution_count": 49,
   "metadata": {},
   "outputs": [],
   "source": [
    "model = keras.models.Sequential([\n",
    "    keras.layers.Dense(30, activation=\"relu\", input_shape=[8]),\n",
    "    keras.layers.Dense(30, activation=\"relu\"),\n",
    "    keras.layers.Dense(1),\n",
    "])"
   ]
  },
  {
   "cell_type": "code",
   "execution_count": 50,
   "metadata": {},
   "outputs": [
    {
     "name": "stdout",
     "output_type": "stream",
     "text": [
      "Epoch 1/10\n"
     ]
    },
    {
     "name": "stderr",
     "output_type": "stream",
     "text": [
      "c:\\Users\\ghost\\anaconda3\\envs\\ML\\lib\\site-packages\\keras\\optimizers\\optimizer_v2\\gradient_descent.py:111: UserWarning: The `lr` argument is deprecated, use `learning_rate` instead.\n",
      "  super().__init__(name, **kwargs)\n"
     ]
    },
    {
     "name": "stdout",
     "output_type": "stream",
     "text": [
      "363/363 [==============================] - 1s 2ms/step - loss: 1.5206 - val_loss: 1.3187\n",
      "Epoch 2/10\n",
      "363/363 [==============================] - 0s 975us/step - loss: 0.6574 - val_loss: 0.7281\n",
      "Epoch 3/10\n",
      "363/363 [==============================] - 0s 1ms/step - loss: 0.5897 - val_loss: 0.6032\n",
      "Epoch 4/10\n",
      "363/363 [==============================] - 0s 989us/step - loss: 0.5430 - val_loss: 0.5643\n",
      "Epoch 5/10\n",
      "363/363 [==============================] - 0s 1ms/step - loss: 0.5091 - val_loss: 0.4963\n",
      "Epoch 6/10\n",
      "363/363 [==============================] - 0s 1ms/step - loss: 0.4816 - val_loss: 0.4781\n",
      "Epoch 7/10\n",
      "363/363 [==============================] - 0s 948us/step - loss: 0.4621 - val_loss: 0.4541\n",
      "Epoch 8/10\n",
      "363/363 [==============================] - 0s 983us/step - loss: 0.4467 - val_loss: 0.4382\n",
      "Epoch 9/10\n",
      "363/363 [==============================] - 0s 961us/step - loss: 0.4348 - val_loss: 0.4373\n",
      "Epoch 10/10\n",
      "363/363 [==============================] - 0s 931us/step - loss: 0.4254 - val_loss: 0.4320\n",
      "162/162 [==============================] - 0s 621us/step - loss: 0.4193\n"
     ]
    }
   ],
   "source": [
    "model.compile(loss=\"mse\", optimizer=keras.optimizers.SGD(learning_rate=1e-3))\n",
    "checkpoint_cb = keras.callbacks.ModelCheckpoint(\"my_keras_model.h5\", save_best_only=True)\n",
    "history = model.fit(X_train, y_train, epochs=10,\n",
    "                    validation_data=(X_valid, y_valid),\n",
    "                    callbacks=[checkpoint_cb])\n",
    "model = keras.models.load_model(\"my_keras_model.h5\") # rollback to best model\n",
    "mse_test = model.evaluate(X_test, y_test)"
   ]
  },
  {
   "cell_type": "code",
   "execution_count": 51,
   "metadata": {},
   "outputs": [
    {
     "name": "stdout",
     "output_type": "stream",
     "text": [
      "Epoch 1/100\n",
      "363/363 [==============================] - 1s 1ms/step - loss: 0.4183 - val_loss: 0.4308\n",
      "Epoch 2/100\n",
      "363/363 [==============================] - 0s 881us/step - loss: 0.4121 - val_loss: 0.4373\n",
      "Epoch 3/100\n",
      "363/363 [==============================] - 0s 906us/step - loss: 0.4073 - val_loss: 0.4305\n",
      "Epoch 4/100\n",
      "363/363 [==============================] - 0s 901us/step - loss: 0.4027 - val_loss: 0.4494\n",
      "Epoch 5/100\n",
      "363/363 [==============================] - 0s 892us/step - loss: 0.3993 - val_loss: 0.4344\n",
      "Epoch 6/100\n",
      "363/363 [==============================] - 0s 884us/step - loss: 0.3956 - val_loss: 0.4377\n",
      "Epoch 7/100\n",
      "363/363 [==============================] - 0s 878us/step - loss: 0.3930 - val_loss: 0.4394\n",
      "Epoch 8/100\n",
      "363/363 [==============================] - 0s 903us/step - loss: 0.3904 - val_loss: 0.4248\n",
      "Epoch 9/100\n",
      "363/363 [==============================] - 0s 876us/step - loss: 0.3879 - val_loss: 0.4305\n",
      "Epoch 10/100\n",
      "363/363 [==============================] - 0s 873us/step - loss: 0.3854 - val_loss: 0.4283\n",
      "Epoch 11/100\n",
      "363/363 [==============================] - 0s 878us/step - loss: 0.3835 - val_loss: 0.4271\n",
      "Epoch 12/100\n",
      "363/363 [==============================] - 0s 914us/step - loss: 0.3815 - val_loss: 0.4307\n",
      "Epoch 13/100\n",
      "363/363 [==============================] - 0s 867us/step - loss: 0.3796 - val_loss: 0.4319\n",
      "Epoch 14/100\n",
      "363/363 [==============================] - 0s 867us/step - loss: 0.3780 - val_loss: 0.4249\n",
      "Epoch 15/100\n",
      "363/363 [==============================] - 0s 892us/step - loss: 0.3765 - val_loss: 0.4234\n",
      "Epoch 16/100\n",
      "363/363 [==============================] - 0s 895us/step - loss: 0.3751 - val_loss: 0.4190\n",
      "Epoch 17/100\n",
      "363/363 [==============================] - 0s 865us/step - loss: 0.3738 - val_loss: 0.4219\n",
      "Epoch 18/100\n",
      "363/363 [==============================] - 0s 862us/step - loss: 0.3726 - val_loss: 0.4272\n",
      "Epoch 19/100\n",
      "363/363 [==============================] - 0s 873us/step - loss: 0.3711 - val_loss: 0.4197\n",
      "Epoch 20/100\n",
      "363/363 [==============================] - 0s 881us/step - loss: 0.3703 - val_loss: 0.4394\n",
      "Epoch 21/100\n",
      "363/363 [==============================] - 0s 878us/step - loss: 0.3690 - val_loss: 0.4383\n",
      "Epoch 22/100\n",
      "363/363 [==============================] - 0s 870us/step - loss: 0.3680 - val_loss: 0.4583\n",
      "Epoch 23/100\n",
      "363/363 [==============================] - 0s 898us/step - loss: 0.3671 - val_loss: 0.4046\n",
      "Epoch 24/100\n",
      "363/363 [==============================] - 0s 873us/step - loss: 0.3661 - val_loss: 0.4244\n",
      "Epoch 25/100\n",
      "363/363 [==============================] - 0s 870us/step - loss: 0.3651 - val_loss: 0.4421\n",
      "Epoch 26/100\n",
      "363/363 [==============================] - 0s 862us/step - loss: 0.3644 - val_loss: 0.4373\n",
      "Epoch 27/100\n",
      "363/363 [==============================] - 0s 865us/step - loss: 0.3638 - val_loss: 0.4065\n",
      "Epoch 28/100\n",
      "363/363 [==============================] - 0s 867us/step - loss: 0.3629 - val_loss: 0.4218\n",
      "Epoch 29/100\n",
      "363/363 [==============================] - 0s 867us/step - loss: 0.3622 - val_loss: 0.4117\n",
      "Epoch 30/100\n",
      "363/363 [==============================] - 0s 867us/step - loss: 0.3612 - val_loss: 0.4081\n",
      "Epoch 31/100\n",
      "363/363 [==============================] - 0s 895us/step - loss: 0.3601 - val_loss: 0.4023\n",
      "Epoch 32/100\n",
      "363/363 [==============================] - 0s 887us/step - loss: 0.3595 - val_loss: 0.4288\n",
      "Epoch 33/100\n",
      "363/363 [==============================] - 0s 917us/step - loss: 0.3592 - val_loss: 0.4015\n",
      "Epoch 34/100\n",
      "363/363 [==============================] - 0s 873us/step - loss: 0.3582 - val_loss: 0.4047\n",
      "Epoch 35/100\n",
      "363/363 [==============================] - 0s 873us/step - loss: 0.3577 - val_loss: 0.4238\n",
      "Epoch 36/100\n",
      "363/363 [==============================] - 0s 867us/step - loss: 0.3572 - val_loss: 0.4038\n",
      "Epoch 37/100\n",
      "363/363 [==============================] - 0s 923us/step - loss: 0.3564 - val_loss: 0.4207\n",
      "Epoch 38/100\n",
      "363/363 [==============================] - 0s 865us/step - loss: 0.3558 - val_loss: 0.4265\n",
      "Epoch 39/100\n",
      "363/363 [==============================] - 0s 914us/step - loss: 0.3552 - val_loss: 0.4216\n",
      "Epoch 40/100\n",
      "363/363 [==============================] - 0s 898us/step - loss: 0.3547 - val_loss: 0.4200\n",
      "Epoch 41/100\n",
      "363/363 [==============================] - 0s 975us/step - loss: 0.3542 - val_loss: 0.4423\n",
      "Epoch 42/100\n",
      "363/363 [==============================] - 0s 884us/step - loss: 0.3538 - val_loss: 0.4353\n",
      "Epoch 43/100\n",
      "363/363 [==============================] - 0s 881us/step - loss: 0.3529 - val_loss: 0.4475\n",
      "162/162 [==============================] - 0s 634us/step - loss: 0.3566\n"
     ]
    }
   ],
   "source": [
    "model.compile(loss=\"mse\", optimizer=keras.optimizers.SGD(learning_rate=1e-3))\n",
    "early_stopping_cb = keras.callbacks.EarlyStopping(patience=10,\n",
    "                                                  restore_best_weights=True)\n",
    "history = model.fit(X_train, y_train, epochs=100,\n",
    "                    validation_data=(X_valid, y_valid),\n",
    "                    callbacks=[checkpoint_cb, early_stopping_cb])\n",
    "mse_test = model.evaluate(X_test, y_test)"
   ]
  },
  {
   "cell_type": "code",
   "execution_count": 57,
   "metadata": {},
   "outputs": [],
   "source": [
    "class PrintValTrainRatioCallback(keras.callbacks.Callback):\n",
    "    def on_epoch_end(self, epoch, logs):\n",
    "        print(\"\\nval/train: {:.2f}\".format(logs[\"val_loss\"] / logs[\"loss\"]))"
   ]
  },
  {
   "cell_type": "code",
   "execution_count": 60,
   "metadata": {},
   "outputs": [
    {
     "name": "stdout",
     "output_type": "stream",
     "text": [
      "333/363 [==========================>...] - ETA: 0s - loss: 0.3540\n",
      "val/train: 1.18\n",
      "363/363 [==============================] - 1s 2ms/step - loss: 0.3558 - val_loss: 0.4200\n"
     ]
    }
   ],
   "source": [
    "val_train_ratio_cb = PrintValTrainRatioCallback()\n",
    "history = model.fit(X_train, y_train, epochs=1,\n",
    "                    validation_data=(X_valid, y_valid),\n",
    "                    callbacks=[val_train_ratio_cb])"
   ]
  },
  {
   "cell_type": "markdown",
   "metadata": {},
   "source": [
    "## Tensorboard"
   ]
  },
  {
   "cell_type": "code",
   "execution_count": 62,
   "metadata": {},
   "outputs": [],
   "source": [
    "import os\n",
    "root_logdir = os.path.join(os.curdir, \"my_logs\")"
   ]
  },
  {
   "cell_type": "code",
   "execution_count": 63,
   "metadata": {},
   "outputs": [
    {
     "data": {
      "text/plain": [
       "'.\\\\my_logs\\\\run_2022_09_25-16_05_19'"
      ]
     },
     "execution_count": 63,
     "metadata": {},
     "output_type": "execute_result"
    }
   ],
   "source": [
    "def get_run_logdir():\n",
    "    import time\n",
    "    run_id = time.strftime(\"run_%Y_%m_%d-%H_%M_%S\")\n",
    "    return os.path.join(root_logdir, run_id)\n",
    "\n",
    "run_logdir = get_run_logdir()\n",
    "run_logdir"
   ]
  },
  {
   "cell_type": "code",
   "execution_count": 64,
   "metadata": {},
   "outputs": [],
   "source": [
    "keras.backend.clear_session()\n",
    "np.random.seed(42)\n",
    "tf.random.set_seed(42)"
   ]
  },
  {
   "cell_type": "code",
   "execution_count": 66,
   "metadata": {},
   "outputs": [],
   "source": [
    "model = keras.models.Sequential([\n",
    "    keras.layers.Dense(30, activation=\"relu\", input_shape=[8]),\n",
    "    keras.layers.Dense(30, activation=\"relu\"),\n",
    "    keras.layers.Dense(1)\n",
    "])    \n",
    "model.compile(loss=\"mse\", optimizer=keras.optimizers.SGD(learning_rate=1e-3))"
   ]
  },
  {
   "cell_type": "code",
   "execution_count": 67,
   "metadata": {},
   "outputs": [
    {
     "name": "stdout",
     "output_type": "stream",
     "text": [
      "Epoch 1/30\n",
      "363/363 [==============================] - 2s 3ms/step - loss: 1.6495 - val_loss: 0.9974\n",
      "Epoch 2/30\n",
      "363/363 [==============================] - 1s 2ms/step - loss: 0.7414 - val_loss: 0.7483\n",
      "Epoch 3/30\n",
      "363/363 [==============================] - 1s 2ms/step - loss: 0.6745 - val_loss: 0.6406\n",
      "Epoch 4/30\n",
      "363/363 [==============================] - 1s 2ms/step - loss: 0.6233 - val_loss: 0.5848\n",
      "Epoch 5/30\n",
      "363/363 [==============================] - 1s 2ms/step - loss: 0.5802 - val_loss: 0.5500\n",
      "Epoch 6/30\n",
      "363/363 [==============================] - 1s 2ms/step - loss: 0.5414 - val_loss: 0.5026\n",
      "Epoch 7/30\n",
      "363/363 [==============================] - 1s 2ms/step - loss: 0.5094 - val_loss: 0.4768\n",
      "Epoch 8/30\n",
      "363/363 [==============================] - 1s 2ms/step - loss: 0.4840 - val_loss: 0.4649\n",
      "Epoch 9/30\n",
      "363/363 [==============================] - 1s 3ms/step - loss: 0.4637 - val_loss: 0.4358\n",
      "Epoch 10/30\n",
      "363/363 [==============================] - 1s 2ms/step - loss: 0.4488 - val_loss: 0.4227\n",
      "Epoch 11/30\n",
      "363/363 [==============================] - 1s 2ms/step - loss: 0.4374 - val_loss: 0.4218\n",
      "Epoch 12/30\n",
      "363/363 [==============================] - 1s 2ms/step - loss: 0.4286 - val_loss: 0.4134\n",
      "Epoch 13/30\n",
      "363/363 [==============================] - 1s 2ms/step - loss: 0.4212 - val_loss: 0.4186\n",
      "Epoch 14/30\n",
      "363/363 [==============================] - 1s 2ms/step - loss: 0.4150 - val_loss: 0.3960\n",
      "Epoch 15/30\n",
      "363/363 [==============================] - 1s 2ms/step - loss: 0.4096 - val_loss: 0.4135\n",
      "Epoch 16/30\n",
      "363/363 [==============================] - 1s 2ms/step - loss: 0.4050 - val_loss: 0.3883\n",
      "Epoch 17/30\n",
      "363/363 [==============================] - 1s 2ms/step - loss: 0.4011 - val_loss: 0.4158\n",
      "Epoch 18/30\n",
      "363/363 [==============================] - 1s 2ms/step - loss: 0.3975 - val_loss: 0.3913\n",
      "Epoch 19/30\n",
      "363/363 [==============================] - 1s 2ms/step - loss: 0.3937 - val_loss: 0.3810\n",
      "Epoch 20/30\n",
      "363/363 [==============================] - 1s 2ms/step - loss: 0.3909 - val_loss: 0.4540\n",
      "Epoch 21/30\n",
      "363/363 [==============================] - 1s 2ms/step - loss: 0.3885 - val_loss: 0.3881\n",
      "Epoch 22/30\n",
      "363/363 [==============================] - 1s 2ms/step - loss: 0.3856 - val_loss: 0.4205\n",
      "Epoch 23/30\n",
      "363/363 [==============================] - 1s 2ms/step - loss: 0.3835 - val_loss: 0.3672\n",
      "Epoch 24/30\n",
      "363/363 [==============================] - 1s 2ms/step - loss: 0.3812 - val_loss: 0.3989\n",
      "Epoch 25/30\n",
      "363/363 [==============================] - 1s 2ms/step - loss: 0.3791 - val_loss: 0.4227\n",
      "Epoch 26/30\n",
      "363/363 [==============================] - 1s 2ms/step - loss: 0.3776 - val_loss: 0.4073\n",
      "Epoch 27/30\n",
      "363/363 [==============================] - 1s 2ms/step - loss: 0.3762 - val_loss: 0.3575\n",
      "Epoch 28/30\n",
      "363/363 [==============================] - 1s 2ms/step - loss: 0.3743 - val_loss: 0.3994\n",
      "Epoch 29/30\n",
      "363/363 [==============================] - 1s 2ms/step - loss: 0.3731 - val_loss: 0.3701\n",
      "Epoch 30/30\n",
      "363/363 [==============================] - 1s 2ms/step - loss: 0.3712 - val_loss: 0.4239\n"
     ]
    }
   ],
   "source": [
    "tensorboard_cb = keras.callbacks.TensorBoard(run_logdir)\n",
    "history = model.fit(X_train, y_train, epochs=30,\n",
    "                    validation_data=(X_valid, y_valid),\n",
    "                    callbacks=[checkpoint_cb, tensorboard_cb])"
   ]
  },
  {
   "cell_type": "code",
   "execution_count": 68,
   "metadata": {},
   "outputs": [
    {
     "data": {
      "text/html": [
       "\n",
       "      <iframe id=\"tensorboard-frame-ee938da9be5c018d\" width=\"100%\" height=\"800\" frameborder=\"0\">\n",
       "      </iframe>\n",
       "      <script>\n",
       "        (function() {\n",
       "          const frame = document.getElementById(\"tensorboard-frame-ee938da9be5c018d\");\n",
       "          const url = new URL(\"/\", window.location);\n",
       "          const port = 6006;\n",
       "          if (port) {\n",
       "            url.port = port;\n",
       "          }\n",
       "          frame.src = url;\n",
       "        })();\n",
       "      </script>\n",
       "    "
      ],
      "text/plain": [
       "<IPython.core.display.HTML object>"
      ]
     },
     "metadata": {},
     "output_type": "display_data"
    }
   ],
   "source": [
    "%load_ext tensorboard\n",
    "%tensorboard --logdir=./my_logs --port=6006"
   ]
  },
  {
   "cell_type": "code",
   "execution_count": 69,
   "metadata": {},
   "outputs": [
    {
     "data": {
      "text/plain": [
       "'.\\\\my_logs\\\\run_2022_09_25-16_11_21'"
      ]
     },
     "execution_count": 69,
     "metadata": {},
     "output_type": "execute_result"
    }
   ],
   "source": [
    "run_logdir2 = get_run_logdir()\n",
    "run_logdir2"
   ]
  },
  {
   "cell_type": "code",
   "execution_count": 70,
   "metadata": {},
   "outputs": [],
   "source": [
    "keras.backend.clear_session()\n",
    "np.random.seed(42)\n",
    "tf.random.set_seed(42)"
   ]
  },
  {
   "cell_type": "code",
   "execution_count": 71,
   "metadata": {},
   "outputs": [],
   "source": [
    "model = keras.models.Sequential([\n",
    "    keras.layers.Dense(30, activation=\"relu\", input_shape=[8]),\n",
    "    keras.layers.Dense(30, activation=\"relu\"),\n",
    "    keras.layers.Dense(1)\n",
    "])    \n",
    "model.compile(loss=\"mse\", optimizer=keras.optimizers.SGD(learning_rate=0.05))"
   ]
  },
  {
   "cell_type": "code",
   "execution_count": 72,
   "metadata": {},
   "outputs": [
    {
     "name": "stdout",
     "output_type": "stream",
     "text": [
      "Epoch 1/30\n",
      "363/363 [==============================] - 2s 3ms/step - loss: 0.5717 - val_loss: 12.1825\n",
      "Epoch 2/30\n",
      "363/363 [==============================] - 1s 2ms/step - loss: 0.7639 - val_loss: 1.4807\n",
      "Epoch 3/30\n",
      "363/363 [==============================] - 1s 2ms/step - loss: 0.4006 - val_loss: 0.5433\n",
      "Epoch 4/30\n",
      "363/363 [==============================] - 1s 2ms/step - loss: 0.3614 - val_loss: 0.3223\n",
      "Epoch 5/30\n",
      "363/363 [==============================] - 1s 2ms/step - loss: 0.3489 - val_loss: 0.7663\n",
      "Epoch 6/30\n",
      "363/363 [==============================] - 1s 2ms/step - loss: 0.3472 - val_loss: 0.3439\n",
      "Epoch 7/30\n",
      "363/363 [==============================] - 1s 3ms/step - loss: 0.3390 - val_loss: 0.3072\n",
      "Epoch 8/30\n",
      "363/363 [==============================] - 1s 3ms/step - loss: 0.3268 - val_loss: 0.3068\n",
      "Epoch 9/30\n",
      "363/363 [==============================] - 1s 2ms/step - loss: 0.3231 - val_loss: 0.3203\n",
      "Epoch 10/30\n",
      "363/363 [==============================] - 1s 2ms/step - loss: 0.3226 - val_loss: 0.3045\n",
      "Epoch 11/30\n",
      "363/363 [==============================] - 1s 2ms/step - loss: 0.3189 - val_loss: 0.3106\n",
      "Epoch 12/30\n",
      "363/363 [==============================] - 1s 2ms/step - loss: 0.3145 - val_loss: 0.3043\n",
      "Epoch 13/30\n",
      "363/363 [==============================] - 1s 3ms/step - loss: 0.3114 - val_loss: 0.3165\n",
      "Epoch 14/30\n",
      "363/363 [==============================] - 1s 2ms/step - loss: 0.3091 - val_loss: 0.3626\n",
      "Epoch 15/30\n",
      "363/363 [==============================] - 1s 2ms/step - loss: 0.3070 - val_loss: 0.2853\n",
      "Epoch 16/30\n",
      "363/363 [==============================] - 1s 3ms/step - loss: 0.3056 - val_loss: 0.2780\n",
      "Epoch 17/30\n",
      "363/363 [==============================] - 1s 2ms/step - loss: 0.3011 - val_loss: 0.3141\n",
      "Epoch 18/30\n",
      "363/363 [==============================] - 1s 2ms/step - loss: 0.3005 - val_loss: 0.3816\n",
      "Epoch 19/30\n",
      "363/363 [==============================] - 1s 2ms/step - loss: 0.3040 - val_loss: 0.2971\n",
      "Epoch 20/30\n",
      "363/363 [==============================] - 1s 2ms/step - loss: 0.2988 - val_loss: 0.3154\n",
      "Epoch 21/30\n",
      "363/363 [==============================] - 1s 2ms/step - loss: 0.2974 - val_loss: 0.3082\n",
      "Epoch 22/30\n",
      "363/363 [==============================] - 1s 2ms/step - loss: 0.2939 - val_loss: 0.3606\n",
      "Epoch 23/30\n",
      "363/363 [==============================] - 1s 2ms/step - loss: 0.2939 - val_loss: 0.4000\n",
      "Epoch 24/30\n",
      "363/363 [==============================] - 1s 2ms/step - loss: 0.2913 - val_loss: 0.3615\n",
      "Epoch 25/30\n",
      "363/363 [==============================] - 1s 2ms/step - loss: 0.2920 - val_loss: 0.4267\n",
      "Epoch 26/30\n",
      "363/363 [==============================] - 1s 2ms/step - loss: 0.2909 - val_loss: 0.2812\n",
      "Epoch 27/30\n",
      "363/363 [==============================] - 1s 2ms/step - loss: 0.2974 - val_loss: 0.2859\n",
      "Epoch 28/30\n",
      "363/363 [==============================] - 1s 2ms/step - loss: 0.2916 - val_loss: 0.2885\n",
      "Epoch 29/30\n",
      "363/363 [==============================] - 1s 2ms/step - loss: 0.2883 - val_loss: 0.3027\n",
      "Epoch 30/30\n",
      "363/363 [==============================] - 1s 2ms/step - loss: 0.2872 - val_loss: 0.3225\n"
     ]
    }
   ],
   "source": [
    "tensorboard_cb = keras.callbacks.TensorBoard(run_logdir2)\n",
    "history = model.fit(X_train, y_train, epochs=30,\n",
    "                    validation_data=(X_valid, y_valid),\n",
    "                    callbacks=[checkpoint_cb, tensorboard_cb])"
   ]
  }
 ],
 "metadata": {
  "kernelspec": {
   "display_name": "Python 3.7.13 ('ML')",
   "language": "python",
   "name": "python3"
  },
  "language_info": {
   "codemirror_mode": {
    "name": "ipython",
    "version": 3
   },
   "file_extension": ".py",
   "mimetype": "text/x-python",
   "name": "python",
   "nbconvert_exporter": "python",
   "pygments_lexer": "ipython3",
   "version": "3.7.13"
  },
  "orig_nbformat": 4,
  "vscode": {
   "interpreter": {
    "hash": "4f5e6beb206bfc87189b6e4870c10a265e4905ba3a097598f8752d998f2fcd10"
   }
  }
 },
 "nbformat": 4,
 "nbformat_minor": 2
}
